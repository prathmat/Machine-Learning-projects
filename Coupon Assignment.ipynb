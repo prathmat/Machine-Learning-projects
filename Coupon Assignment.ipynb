{
  "metadata": {
    "kernelspec": {
      "name": "python",
      "display_name": "Python (Pyodide)",
      "language": "python"
    },
    "language_info": {
      "codemirror_mode": {
        "name": "python",
        "version": 3
      },
      "file_extension": ".py",
      "mimetype": "text/x-python",
      "name": "python",
      "nbconvert_exporter": "python",
      "pygments_lexer": "ipython3",
      "version": "3.8"
    },
    "colab": {
      "provenance": []
    }
  },
  "nbformat_minor": 4,
  "nbformat": 4,
  "cells": [
    {
      "cell_type": "markdown",
      "source": "### Required Assignment 5.1: Will the Customer Accept the Coupon?\n\n**Context**\n\nImagine driving through town and a coupon is delivered to your cell phone for a restaurant near where you are driving. Would you accept that coupon and take a short detour to the restaurant? Would you accept the coupon but use it on a subsequent trip? Would you ignore the coupon entirely? What if the coupon was for a bar instead of a restaurant? What about a coffee house? Would you accept a bar coupon with a minor passenger in the car? What about if it was just you and your partner in the car? Would weather impact the rate of acceptance? What about the time of day?\n\nObviously, proximity to the business is a factor on whether the coupon is delivered to the driver or not, but what are the factors that determine whether a driver accepts the coupon once it is delivered to them? How would you determine whether a driver is likely to accept a coupon?\n\n**Overview**\n\nThe goal of this project is to use what you know about visualizations and probability distributions to distinguish between customers who accepted a driving coupon versus those that did not.\n\n**Data**\n\nThis data comes to us from the UCI Machine Learning repository and was collected via a survey on Amazon Mechanical Turk. The survey describes different driving scenarios including the destination, current time, weather, passenger, etc., and then ask the person whether he will accept the coupon if he is the driver. Answers that the user will drive there ‘right away’ or ‘later before the coupon expires’ are labeled as ‘Y = 1’ and answers ‘no, I do not want the coupon’ are labeled as ‘Y = 0’.  There are five different types of coupons -- less expensive restaurants (under \\$20), coffee houses, carry out & take away, bar, and more expensive restaurants (\\$20 - $50).",
      "metadata": {
        "id": "CcUT6Fon_qRE"
      }
    },
    {
      "cell_type": "markdown",
      "source": "**Deliverables**\n\nYour final product should be a brief report that highlights the differences between customers who did and did not accept the coupons.  To explore the data you will utilize your knowledge of plotting, statistical summaries, and visualization using Python. You will publish your findings in a public facing github repository as your first portfolio piece.\n\n\n\n",
      "metadata": {
        "id": "1wORvMBJ_qRF"
      }
    },
    {
      "cell_type": "markdown",
      "source": "### Data Description\nKeep in mind that these values mentioned below are average values.\n\nThe attributes of this data set include:\n1. User attributes\n    -  Gender: male, female\n    -  Age: below 21, 21 to 25, 26 to 30, etc.\n    -  Marital Status: single, married partner, unmarried partner, or widowed\n    -  Number of children: 0, 1, or more than 1\n    -  Education: high school, bachelors degree, associates degree, or graduate degree\n    -  Occupation: architecture & engineering, business & financial, etc.\n    -  Annual income: less than \\\\$12500, \\\\$12500 - \\\\$24999, \\\\$25000 - \\\\$37499, etc.\n    -  Number of times that he/she goes to a bar: 0, less than 1, 1 to 3, 4 to 8 or greater than 8\n    -  Number of times that he/she buys takeaway food: 0, less than 1, 1 to 3, 4 to 8 or greater\n    than 8\n    -  Number of times that he/she goes to a coffee house: 0, less than 1, 1 to 3, 4 to 8 or\n    greater than 8\n    -  Number of times that he/she eats at a restaurant with average expense less than \\\\$20 per\n    person: 0, less than 1, 1 to 3, 4 to 8 or greater than 8\n    -  Number of times that he/she goes to a bar: 0, less than 1, 1 to 3, 4 to 8 or greater than 8\n    \n\n2. Contextual attributes\n    - Driving destination: home, work, or no urgent destination\n    - Location of user, coupon and destination: we provide a map to show the geographical\n    location of the user, destination, and the venue, and we mark the distance between each\n    two places with time of driving. The user can see whether the venue is in the same\n    direction as the destination.\n    - Weather: sunny, rainy, or snowy\n    - Temperature: 30F, 55F, or 80F\n    - Time: 10AM, 2PM, or 6PM\n    - Passenger: alone, partner, kid(s), or friend(s)\n\n\n3. Coupon attributes\n    - time before it expires: 2 hours or one day",
      "metadata": {
        "id": "pG6_Ym6q_qRG"
      }
    },
    {
      "cell_type": "code",
      "source": "%pip install seaborn\n\n",
      "metadata": {
        "trusted": true
      },
      "outputs": [],
      "execution_count": null
    },
    {
      "cell_type": "code",
      "source": "import matplotlib.pyplot as plt\nimport seaborn as sns\nimport pandas as pd\nimport numpy as np",
      "metadata": {
        "id": "dzNoP3o__qRG",
        "trusted": true
      },
      "outputs": [],
      "execution_count": null
    },
    {
      "cell_type": "markdown",
      "source": "### Problems\n\nUse the prompts below to get started with your data analysis.  \n\n1. Read in the `coupons.csv` file.\n\n\n",
      "metadata": {
        "id": "Ct8pI1uE_qRG"
      }
    },
    {
      "cell_type": "code",
      "source": "data = pd.read_csv('data/coupons.csv')",
      "metadata": {
        "id": "X0vbffYg_qRH",
        "trusted": true
      },
      "outputs": [],
      "execution_count": null
    },
    {
      "cell_type": "code",
      "source": "print(data)",
      "metadata": {
        "trusted": true
      },
      "outputs": [],
      "execution_count": null
    },
    {
      "cell_type": "code",
      "source": "data.head()",
      "metadata": {
        "id": "TXofQ_DF_qRH",
        "outputId": "2fc96a2c-1112-4b54-f24f-dbb9bc88abfb",
        "trusted": true
      },
      "outputs": [],
      "execution_count": null
    },
    {
      "cell_type": "markdown",
      "source": "2. Investigate the dataset for missing or problematic data.",
      "metadata": {
        "id": "GcDs78ZH_qRH"
      }
    },
    {
      "cell_type": "code",
      "source": "#Ivestigating Missing Data\nmissingData=data.isna().sum()\n\n#Selecting the columns with missing data greater than 1\nmissing_columns = missingData[missingData > 0]\n\nsns.barplot(x=missing_columns.index, y=missing_columns.values, palette='viridis')\nplt.title('Number of Missing Values in Each Column')\nplt.xlabel('Columns')\nplt.ylabel('Number of Missing Values')\nplt.xticks(rotation=45)",
      "metadata": {
        "id": "6CwL6oWj_qRH",
        "trusted": true
      },
      "outputs": [],
      "execution_count": null
    },
    {
      "cell_type": "markdown",
      "source": "3. Decide what to do about your missing data -- drop, replace, other...",
      "metadata": {
        "id": "bSdVSpYB_qRH"
      }
    },
    {
      "cell_type": "code",
      "source": "#Based on the null values we need to drop car column or feature\ndata_cleanv2= data.drop(columns=['car'])\n\n#Rest of the categories/columns which have missing data are mostly non numerical or string/category based , so we h=can use the most commonly occuring \n#data for filling the na values\n\nmissing_columns_excluding_car = missing_columns.drop('car', errors='ignore').index.tolist()\n\nfor col in missing_columns_excluding_car:\n    mode_value = data[col].mode()[0]  # Calculate the mode for the column\n    data_cleanv2[col].fillna(mode_value, inplace=True)  # Fill missing values with the mode\n",
      "metadata": {
        "id": "tyvoAC5F_qRI"
      },
      "outputs": [],
      "execution_count": null
    },
    {
      "cell_type": "markdown",
      "source": "4. What proportion of the total observations chose to accept the coupon?\n\n",
      "metadata": {
        "id": "YE6oJbXd_qRI"
      }
    },
    {
      "cell_type": "code",
      "source": "\n# Calculate the proportion of total observations that chose to accept the coupon\ntotal_accepted = data['Y'].sum()  # Count of accepted coupons\ntotal_observations = len(data)    # Total number of observations\nproportion_accepted = total_accepted / total_observations\n\nprint(proportion_accepted)",
      "metadata": {
        "id": "86GGqBTv_qRI"
      },
      "outputs": [],
      "execution_count": null
    },
    {
      "cell_type": "markdown",
      "source": "5. Use a bar plot to visualize the `coupon` column.",
      "metadata": {
        "id": "vflz0DoE_qRI"
      }
    },
    {
      "cell_type": "code",
      "source": "\nsns.barplot(x=data['coupon'].value_counts().index, y=data['coupon'].value_counts().values)\nplt.title('Coupon Type Distribution')\nplt.xlabel('Coupon Type')\nplt.ylabel('Count')\nplt.xticks(rotation=45)",
      "metadata": {
        "id": "dHFh3E45_qRI"
      },
      "outputs": [],
      "execution_count": null
    },
    {
      "cell_type": "markdown",
      "source": "6. Use a histogram to visualize the temperature column.",
      "metadata": {
        "id": "Qw4lCyx2_qRI"
      }
    },
    {
      "cell_type": "code",
      "source": "sns.barplot(x=data['temperature'].value_counts().index, y=data['temperature'].value_counts().values)\nplt.title('Temperature Type Distribution')\nplt.xlabel('Temperature Type')\nplt.ylabel('Count')\nplt.xticks(rotation=45)",
      "metadata": {
        "id": "Yg9Anv71_qRI"
      },
      "outputs": [],
      "execution_count": null
    },
    {
      "cell_type": "code",
      "source": "",
      "metadata": {
        "id": "zLtOaJQk_qRI"
      },
      "outputs": [],
      "execution_count": null
    },
    {
      "cell_type": "code",
      "source": "",
      "metadata": {
        "id": "7GBHZKBp_qRJ"
      },
      "outputs": [],
      "execution_count": null
    },
    {
      "cell_type": "code",
      "source": "",
      "metadata": {
        "id": "Y5nBUA-j_qRJ"
      },
      "outputs": [],
      "execution_count": null
    },
    {
      "cell_type": "code",
      "source": "",
      "metadata": {
        "id": "ShcUC-Vm_qRJ"
      },
      "outputs": [],
      "execution_count": null
    },
    {
      "cell_type": "markdown",
      "source": "**Investigating the Bar Coupons**\n\nNow, we will lead you through an exploration of just the bar related coupons.  \n\n1. Create a new `DataFrame` that contains just the bar coupons.\n",
      "metadata": {
        "id": "FupfgeJk_qRJ"
      }
    },
    {
      "cell_type": "code",
      "source": "df_barCoupons=data[data['coupon']=='Bar']\n",
      "metadata": {
        "id": "tMBlWuGq_qRJ"
      },
      "outputs": [],
      "execution_count": null
    },
    {
      "cell_type": "markdown",
      "source": "2. What proportion of bar coupons were accepted?\n",
      "metadata": {
        "id": "8ue6uCqf_qRJ"
      }
    },
    {
      "cell_type": "code",
      "source": "df_barCoupons_yes=df_barCoupons['Y'].sum()\ndf_barCoupons_proportionAccepted=df_barCoupons_yes/len(df_barCoupons)\n\nprint(df_barCoupons_proportionAccepted)",
      "metadata": {
        "id": "hSdte8Mi_qRK"
      },
      "outputs": [],
      "execution_count": null
    },
    {
      "cell_type": "markdown",
      "source": "3. Compare the acceptance rate between those who went to a bar 3 or fewer times a month to those who went more.\n",
      "metadata": {
        "id": "85nA_iEi_qRK"
      }
    },
    {
      "cell_type": "code",
      "source": "bar_3_or_fewer = data[(data['Bar'] == 'never') | \n                      (data['Bar'] == 'less1') | \n                      (data['Bar'] == '1~3')]\n\nbar_3_or_fewer_proportion=bar_3_or_fewer['Y'].sum()/len(bar_3_or_fewer)\n print(bar_3_or_fewer_proportion)\n\nbar_more_than_3 = data[(data['Bar'] == '4~8') | \n                       (data['Bar'] == 'gt8')]\n\n\n\nbar_more_than_3_proportion=bar_more_than_3['Y'].sum()/len(bar_more_than_3)\nprint(bar_more_than_3_proportion)\n\n#comparing  bar_more_than_3 and bar_3_or_fewer , we cam say that bar_more_than_3 has a higher percentage of acceptance\n\nprint('Thosee who went more than 3 times have higher acceptance rate')",
      "metadata": {
        "id": "LBOrN-XM_qRK"
      },
      "outputs": [],
      "execution_count": null
    },
    {
      "cell_type": "markdown",
      "source": "4. Compare the acceptance rate between drivers who go to a bar more than once a month and are over the age of 25 to the all others.  Is there a difference?\n",
      "metadata": {
        "id": "RBgcQwH4_qRK"
      }
    },
    {
      "cell_type": "code",
      "source": "data['age'] = pd.to_numeric(data['age'], errors='coerce')\n\n# Filter for drivers who go to a bar more than once a month and are over 25\ndrivers_bar_more_than_once_and_over_25 = data[(data['Bar'] != 'never') & \n                                              (data['age'] > 25)]\n\nprint(drivers_bar_more_than_once_and_over_25)\n\ndrivers_bar_more_than_once_and_over_25_proportion=drivers_bar_more_than_once_and_over_25['Y'].sum()/len(drivers_bar_more_than_once_and_over_25)\n\nprint(drivers_bar_more_than_once_and_over_25_proportion)\n# Calculate acceptance rate for all others\nacceptance_rate_others = data[~((data['Bar'] != 'never') & \n                                (data['age'] > 25))]['Y'].mean()\nprint (acceptance_rate_others)\n\n#drivers_bar_more_than_once_and_over_25 have more acceptance\nprint('Yes there is a difference Drivers who have been to Bar more than once and are over 25 have more acceptance')",
      "metadata": {
        "id": "bf28bbeX_qRK"
      },
      "outputs": [],
      "execution_count": null
    },
    {
      "cell_type": "markdown",
      "source": "5. Use the same process to compare the acceptance rate between drivers who go to bars more than once a month and had passengers that were not a kid and had occupations other than farming, fishing, or forestry.\n",
      "metadata": {
        "id": "S4RKT4PJ_qRK"
      }
    },
    {
      "cell_type": "code",
      "source": "drivers_bar_more_than_once = data[(data['Bar'] != 'never') & \n                                  (data['Bar'] != 'less1')]\n\ndrivers_bar_with_conditions = drivers_bar_more_than_once[(drivers_bar_more_than_once['passanger'] != 'Kid(s)') & \n                                                         (~drivers_bar_more_than_once['occupation'].isin(['Farming, Fishing, & Forestry']))]\n\n# Calculate acceptance rate for this group\nacceptance_rate_special_group = drivers_bar_with_conditions['Y'].mean()\n\n# Calculate acceptance rate for all others\nacceptance_rate_all_others = data[~((data['Bar'] != 'never') & \n                                    (data['Bar'] != 'less1') & \n                                    (data['passanger'] != 'Kid(s)') & \n                                    (~data['occupation'].isin(['Farming, Fishing, & Forestry'])))]['Y'].mean()\n\nprint(f\"Acceptance Rate for Drivers Who Go to Bars More Than Once a Month (Special Group): {acceptance_rate_special_group:.2f}\")\nprint(f\"Acceptance Rate for All Other Drivers: {acceptance_rate_all_others:.2f}\")\n\n# Determine if the special group has a higher acceptance rate\nif acceptance_rate_special_group > acceptance_rate_all_others:\n    print(\"\\nObservation: Drivers who go to bars more than once a month, do not have 'Kid(s)' as passengers, and have occupations other than 'Farming, Fishing, & Forestry' show a higher acceptance rate compared to all other drivers.\")\nelse:\n    print(\"\\nObservation: There is no significant difference in acceptance rate between the special group and all other drivers.\")\n",
      "metadata": {
        "id": "sENaI2Tg_qRK"
      },
      "outputs": [],
      "execution_count": null
    },
    {
      "cell_type": "markdown",
      "source": "6. Compare the acceptance rates between those drivers who:\n\n- go to bars more than once a month, had passengers that were not a kid, and were not widowed *OR*\n- go to bars more than once a month and are under the age of 30 *OR*\n- go to cheap restaurants more than 4 times a month and income is less than 50K.\n\n",
      "metadata": {
        "id": "n2LIUTil_qRK"
      }
    },
    {
      "cell_type": "code",
      "source": "filter_1 = data[(data['Bar'].isin(['1~3', '4~8', 'gt8'])) & \n                (data['passanger'] != 'Kid(s)') & \n                (data['maritalStatus'] != 'Widowed')]\n\n# Acceptance rate for filter 1\nacceptance_rate_filter_1 = filter_1['Y'].mean()\n\n# Filter 2: Drivers who go to bars more than once a month and are under the age of 30\nfilter_2 = data[(data['Bar'].isin(['1~3', '4~8', 'gt8'])) & \n                (data['age'] < 30)]\n\n# Acceptance rate for filter 2\nacceptance_rate_filter_2 = filter_2['Y'].mean()\n\n# Filter 3: Drivers who go to cheap restaurants more than 4 times a month and income is less than 50K\n# Remove commas and extract numerical income values\ndata['income_numeric'] = data['income'].str.replace(',', '').str.extract('(\\d+)').astype(float)\n\n# Filter for cheap restaurants and income\nfilter_3 = data[(data['RestaurantLessThan20'].isin(['4~8', 'gt8'])) & \n                (data['income_numeric'] < 50000)]\n\n# Acceptance rate for filter 3\nacceptance_rate_filter_3 = filter_3['Y'].mean()\n# Print the calculated acceptance rates and observations\nprint(f\"Acceptance Rate for Filter 1 (Drivers who go to bars 1~3 times or more, do not have Kid(s) as passengers, and are not widowed): {acceptance_rate_filter_1:.2f}\")\nprint(f\"Acceptance Rate for Filter 2 (Drivers who go to bars more than once a month and are under the age of 30): {acceptance_rate_filter_2:.2f}\")\nprint(f\"Acceptance Rate for Filter 3 (Drivers who go to cheap restaurants more than 4 times a month and have income less than 50K): {acceptance_rate_filter_3:.2f}\")\n\n# Observation based on comparison of the three groups\nprint(\"\\n### Observations ###\")\n\nif acceptance_rate_filter_1 > acceptance_rate_filter_2 and acceptance_rate_filter_1 > acceptance_rate_filter_3:\n    print(\"Observation: The highest acceptance rate is for Filter 1. Drivers who go to bars frequently, do not have Kid(s) as passengers, and are not widowed are more likely to accept coupons.\")\nelif acceptance_rate_filter_2 > acceptance_rate_filter_1 and acceptance_rate_filter_2 > acceptance_rate_filter_3:\n    print(\"Observation: The highest acceptance rate is for Filter 2. Younger drivers (under 30) who go to bars more than once a month are more likely to accept coupons.\")\nelse:\n    print(\"Observation: The highest acceptance rate is for Filter 3. Drivers who go to cheap restaurants more than 4 times a month and have an income less than 50K are more likely to accept coupons.\")",
      "metadata": {
        "id": "aK_wEzx7_qRK"
      },
      "outputs": [],
      "execution_count": null
    },
    {
      "cell_type": "markdown",
      "source": "7.  Based on these observations, what do you hypothesize about drivers who accepted the bar coupons?",
      "metadata": {
        "id": "v3fL3QkO_qRK"
      }
    },
    {
      "cell_type": "code",
      "source": "#Acceptance Rate for Each Group:\n\n#Filter 1: Drivers who go to bars frequently (1~3 times or more), do not have Kid(s) as passengers, and are not widowed have an acceptance rate of 62%.\n#Filter 2: Younger drivers (under 30) who go to bars more than once a month have a slightly higher acceptance rate of 63%.\n#Filter 3: Drivers who go to cheap restaurants more than 4 times a month and have an income less than 50K have an acceptance rate of 60%.\n#Conclusion:\n#The group with the highest acceptance rate is Filter 2 (Younger drivers under 30 who go to bars more than once a month).\n#This suggests that younger individuals who frequent bars are more likely to accept coupons, making them a prime target demographic for bar-related promotions.",
      "metadata": {
        "id": "Y48naDFh_qRL"
      },
      "outputs": [],
      "execution_count": null
    },
    {
      "cell_type": "markdown",
      "source": "### Independent Investigation\n\nUsing the bar coupon example as motivation, you are to explore one of the other coupon groups and try to determine the characteristics of passengers who accept the coupons.  ",
      "metadata": {
        "id": "r4Hu1zOb_qRL"
      }
    },
    {
      "cell_type": "code",
      "source": "# Calculate the acceptance rate (proportion of Y = 1) for each value in each column except 'Y' and 'coupon'\ncolumns_to_analyze = [col for col in data_cleanv2.columns if col not in ['Y', 'coupon']]  # Exclude 'Y' and 'coupon' columns\n\n# Dictionary to store maximum acceptance rate and corresponding column and value\nmax_acceptance_info = {'column': None, 'value': None, 'acceptance_rate': 0}\n\n# Iterate through each column to find acceptance rates for each unique value\nfor col in columns_to_analyze:\n    # Group by the column and calculate acceptance rate for each unique value\n    acceptance_rate_by_value = data_cleanv2.groupby(col)['Y'].mean()\n    \n    # Find the maximum acceptance rate for this column\n    max_value = acceptance_rate_by_value.idxmax()  # Value with highest acceptance rate\n    max_rate = acceptance_rate_by_value.max()      # Maximum acceptance rate\n    \n    # Update if this column's value has a higher acceptance rate than the previous maximum\n    if max_rate > max_acceptance_info['acceptance_rate']:\n        max_acceptance_info['column'] = col\n        max_acceptance_info['value'] = max_value\n        max_acceptance_info['acceptance_rate'] = max_rate\n# We decided to analyze each column/feature and see which one of them had maximum acceptance as that would give us an overview regarding which factor has maximum contribution towards coupn acceptance\n\n# Calculate the acceptance rate (proportion of Y = 1) for each value in each column except 'Y' and 'coupon'\ncolumns_to_analyze = [col for col in data_cleanv2.columns if col not in ['Y', 'coupon']]  # Exclude 'Y' and 'coupon' columns\n\n# Dictionary to store maximum acceptance rate and corresponding column and value\nmax_acceptance_info = {'column': None, 'value': None, 'acceptance_rate': 0}\n\n# Iterate through each column to find acceptance rates for each unique value\nfor col in columns_to_analyze:\n    # Group by the column and calculate acceptance rate for each unique value\n    acceptance_rate_by_value = data_cleanv2.groupby(col)['Y'].mean()\n    \n    # Find the maximum acceptance rate for this column\n    max_value = acceptance_rate_by_value.idxmax()  # Value with highest acceptance rate\n    max_rate = acceptance_rate_by_value.max()      # Maximum acceptance rate\n    \n    # Update if this column's value has a higher acceptance rate than the previous maximum\n    if max_rate > max_acceptance_info['acceptance_rate']:\n        max_acceptance_info['column'] = col\n        max_acceptance_info['value'] = max_value\n        max_acceptance_info['acceptance_rate'] = max_rate\n\n\n#After analyzing the max_Acceptance_info we found out that education feature had the maximum coupon accepatnce value hence decided to analyze it further\neducation_acceptance_rate = data.groupby('education')['Y'].mean()\n\nplt.figure(figsize=(10, 6))\nsns.barplot(x=education_acceptance_rate.index, y=education_acceptance_rate.values, palette='viridis')\nplt.title('Acceptance Rate by Education Level')\nplt.xlabel('Education Level')\nplt.ylabel('Acceptance Rate')\nplt.xticks(rotation=45)\n\n#Based on the results the High School Gradute students seem more likely to accept the coupons and the Graduate students seem to have a lower acceptance rate\n\n",
      "metadata": {
        "id": "0c71cQhu_qRL"
      },
      "outputs": [],
      "execution_count": null
    },
    {
      "cell_type": "code",
      "source": "",
      "metadata": {
        "id": "QEsBkvIN_qRL"
      },
      "outputs": [],
      "execution_count": null
    },
    {
      "cell_type": "code",
      "source": "",
      "metadata": {
        "id": "fTC2WGE3_qRL"
      },
      "outputs": [],
      "execution_count": null
    },
    {
      "cell_type": "code",
      "source": "",
      "metadata": {
        "id": "RrqUWn7d_qRL"
      },
      "outputs": [],
      "execution_count": null
    },
    {
      "cell_type": "code",
      "source": "",
      "metadata": {
        "id": "_oykf8YP_qRL"
      },
      "outputs": [],
      "execution_count": null
    }
  ]
}